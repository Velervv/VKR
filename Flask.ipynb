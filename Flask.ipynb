{
 "cells": [
  {
   "cell_type": "code",
   "execution_count": 1,
   "id": "1d560ca2",
   "metadata": {},
   "outputs": [
    {
     "name": "stdout",
     "output_type": "stream",
     "text": [
      "Requirement already satisfied: Flask in c:\\users\\user\\anaconda3\\envs\\test1\\lib\\site-packages (2.1.1)\n",
      "Requirement already satisfied: Werkzeug>=2.0 in c:\\users\\user\\anaconda3\\envs\\test1\\lib\\site-packages (from Flask) (2.1.1)\n",
      "Requirement already satisfied: Jinja2>=3.0 in c:\\users\\user\\anaconda3\\envs\\test1\\lib\\site-packages (from Flask) (3.0.2)\n",
      "Requirement already satisfied: click>=8.0 in c:\\users\\user\\anaconda3\\envs\\test1\\lib\\site-packages (from Flask) (8.1.2)\n",
      "Requirement already satisfied: itsdangerous>=2.0 in c:\\users\\user\\anaconda3\\envs\\test1\\lib\\site-packages (from Flask) (2.1.2)\n",
      "Requirement already satisfied: importlib-metadata>=3.6.0 in c:\\users\\user\\anaconda3\\envs\\test1\\lib\\site-packages (from Flask) (4.8.2)\n",
      "Requirement already satisfied: colorama in c:\\users\\user\\anaconda3\\envs\\test1\\lib\\site-packages (from click>=8.0->Flask) (0.4.4)\n",
      "Requirement already satisfied: zipp>=0.5 in c:\\users\\user\\anaconda3\\envs\\test1\\lib\\site-packages (from importlib-metadata>=3.6.0->Flask) (3.7.0)\n",
      "Requirement already satisfied: MarkupSafe>=2.0 in c:\\users\\user\\anaconda3\\envs\\test1\\lib\\site-packages (from Jinja2>=3.0->Flask) (2.0.1)\n"
     ]
    }
   ],
   "source": [
    "!pip install Flask"
   ]
  },
  {
   "cell_type": "code",
   "execution_count": 2,
   "id": "56f7202b",
   "metadata": {},
   "outputs": [],
   "source": [
    "#pip freeze > requirements.txt"
   ]
  },
  {
   "cell_type": "code",
   "execution_count": 3,
   "id": "8f6e7f84",
   "metadata": {},
   "outputs": [],
   "source": [
    "from flask import Flask, render_template, request\n",
    "import pandas as pd\n",
    "import pickle\n"
   ]
  },
  {
   "cell_type": "code",
   "execution_count": 4,
   "id": "b622c3f9",
   "metadata": {},
   "outputs": [],
   "source": [
    "# Функция для извлечения признаков из данных формы\n",
    "def get_data_from_form(features, params):\n",
    "    param_names = features.keys()\n",
    "    data = dict.fromkeys(param_names, None)\n",
    "    error = ''\n",
    "    # Преобразование из строк в числа\n",
    "    for param_name, param_value in params.items():\n",
    "        if param_value.strip(' \\t') != '':\n",
    "            try:\n",
    "                data[param_name] = float(param_value)\n",
    "            except:\n",
    "                error += '{features[param_name]} - некорректное значение \"{param_value}\"\\n'\n",
    "    # Проверка допустимых диапазонов\n",
    "    # Соотношение матрица-наполнитель (0..6)\n",
    "    if 'var1' in data and data['var1'] is not None:\n",
    "        if data['var1'] < 0 or data['var1'] > 6:\n",
    "            error += f'{features[\"var1\"]} - значение вне корректного диапазона\\n'\n",
    "    # Плотность, кг/м3 (1700...2300)\n",
    "    if 'var2' in data and data['var2'] is not None:\n",
    "        if data['var2'] < 1700 or data['var2'] > 2300:\n",
    "            error += f'{features[\"var2\"]} - значение вне корректного диапазона\\n'\n",
    "    # Модуль упругости, ГПа (2...2000)\n",
    "    if 'var3' in data and data['var3'] is not None:\n",
    "        if data['var3'] < 2 or data['var3'] > 2000:\n",
    "            error += f'{features[\"var3\"]} - значение вне корректного диапазона\\n'\n",
    "    # 'Количество отвердителя, м.% (17...200)\n",
    "    if 'var4' in data and data['var4'] is not None:\n",
    "        if data['var4'] < 17 or data['var4'] > 200:\n",
    "            error += f'{features[\"var4\"]} - значение вне корректного диапазона\\n'\n",
    "    # Содержание эпоксидных групп,%_2 (14...34)\n",
    "    if 'var5' in data and data['var5'] is not None:\n",
    "        if data['var5'] < 14 or data['var5'] > 34:\n",
    "            error += f'{features[\"var5\"]} - значение вне корректного диапазона\\n'\n",
    "    # Температура вспышки, С_2 (100...414)\n",
    "    if 'var6' in data and data['var6'] is not None:\n",
    "        if data['var6'] < 100 or data['var6'] > 414:\n",
    "            error += f'{features[\"var6\"]} - значение вне корректного диапазона\\n'\n",
    "    # Поверхностная плотность, г/м2 (0.6...1400)\n",
    "    if 'var7' in data and data['var7'] is not None:\n",
    "        if data['var7'] < 0.6 or data['var7'] > 1400:\n",
    "            error += f'{features[\"var7\"]} - значение вне корректного диапазона\\n'\n",
    "    # Модуль упругости при растяжении, ГПа (64...83)\n",
    "    if 'var8' in data and data['var8'] is not None:\n",
    "        if data['var8'] < 64 or data['var8'] > 83:\n",
    "            error += f'{features[\"var8\"]} - значение вне корректного диапазона\\n'\n",
    "    # Прочность при растяжении, МПа (1036...3849)\n",
    "    if 'var9' in data and data['var9'] is not None:\n",
    "        if data['var9'] < 1036 or data['var9'] > 3849:\n",
    "            error += f'{features[\"var9\"]} - значение вне корректного диапазона\\n'\n",
    "    # Потребление смолы, г/м2 (33...414)\n",
    "    if 'var10' in data and data['var10'] is not None:\n",
    "        if data['var10'] < 33 or data['var10'] > 414:\n",
    "            error += f'{features[\"var10\"]} - значение вне корректного диапазона\\n'\n",
    "    # Угол нашивки, град(0 или 90)\n",
    "    if 'var11' in data and data['var11'] is not None:\n",
    "        if data['var11'] != 0.0 and data['var11'] != 90.0:\n",
    "            error += f'{features[\"var11\"]} - значение вне корректного диапазона\\n'\n",
    "    # Шаг нашивки(0...15)\n",
    "    if 'var12' in data and data['var12'] is not None:\n",
    "        if data['var12'] < 0 or data['var12'] > 15:\n",
    "            error += f'{features[\"var12\"]} - значение вне корректного диапазона\\n'\n",
    "    # Плотность нашивки (0...104)\n",
    "    if 'var13' in data and data['var13'] is not None:\n",
    "        if data['var13'] < 0 or data['var13'] > 104:\n",
    "            error += f'{features[\"var13\"]} - значение вне корректного диапазона\\n'\n",
    "    # Проверка отсутствующих значений\n",
    "    if None in data.values():\n",
    "        error += f'Некоторые значения отсутствуют!\\n'\n",
    "    # Заменить сокращенные имена признаков на полные\n",
    "    data_clean = dict(zip(features.values(), data.values()))\n",
    "    return data_clean, error"
   ]
  },
  {
   "cell_type": "code",
   "execution_count": 17,
   "id": "8fab33c1",
   "metadata": {},
   "outputs": [],
   "source": [
    "def load_pickle_obj(filename):\n",
    "    obj = joblib.load(filename)\n",
    "    return "
   ]
  },
  {
   "cell_type": "code",
   "execution_count": 18,
   "id": "997b4640",
   "metadata": {},
   "outputs": [],
   "source": [
    "app = Flask(__name__)"
   ]
  },
  {
   "cell_type": "code",
   "execution_count": 19,
   "id": "640e4d5c",
   "metadata": {},
   "outputs": [],
   "source": [
    "@app.route('/features/', methods=['post', 'get'])\n",
    "def features_page():\n",
    "    # Необходимые признаки\n",
    "    features = {\n",
    "        'var1': 'Соотношение матрица-наполнитель',\n",
    "        'var2': 'Плотность, кг/м3',\n",
    "        'var3': 'модуль упругости, ГПа',\n",
    "        'var4': 'Количество отвердителя, м.%',\n",
    "        'var5': 'Содержание эпоксидных групп,%_2',\n",
    "        'var6': 'Температура вспышки, С_2',\n",
    "        'var7': 'Поверхностная плотность, г/м2',\n",
    "        'var8': 'Модуль упругости при растяжении, ГПа',\n",
    "        'var9': 'Прочность при растяжении, МПа',\n",
    "        'var10': 'Потребление смолы, г/м2',\n",
    "        'var11': 'Угол нашивки, град',\n",
    "        'var12': 'Шаг нашивки',\n",
    "        'var13': 'Плотность нашивки'\n",
    "    }\n",
    "    # Переменные для формы\n",
    "    # params = {'var1': '', 'var2': '', 'var3': '', 'var4': '', 'var5': '', 'var6': '', 'var7': '',\n",
    "    #           'var8': '', 'var9': '', 'var10': '', 'var11': '', 'var12': '', 'var13': ''}\n",
    "    params = {'var1': '3', 'var2': '2000', 'var3': '1999', 'var4': '95', 'var5': '25', 'var6': '255', 'var7': '720',\n",
    "              'var8': '70', 'var9': '2300', 'var10': '180', 'var11': '0', 'var12': '8', 'var13': '52'}\n",
    "    error = ''\n",
    "    result = ''\n",
    "    # Получены данные из формы\n",
    "    if request.method == 'POST':\n",
    "        params = request.form.to_dict()\n",
    "        data, error = get_data_from_form(features, params)\n",
    "        if error == '':\n",
    "            # Входные данные корректны, выполняется логика\n",
    "            x = pd.DataFrame(data, index=[0])\n",
    "            result = str(x.to_html())\n",
    "    # Отображение результата\n",
    "    return render_template('features.html', params=params, error=error, result=result)"
   ]
  },
  {
   "cell_type": "code",
   "execution_count": 20,
   "id": "ffd6fd7f",
   "metadata": {},
   "outputs": [],
   "source": [
    "@app.route('/model_1_2/', methods=['post', 'get'])\n",
    "def model_1_2_page():\n",
    "    # Необходимые признаки\n",
    "    features = {\n",
    "        'var1': 'Соотношение матрица-наполнитель',\n",
    "        'var2': 'Плотность, кг/м3',\n",
    "        'var3': 'модуль упругости, ГПа',\n",
    "        'var4': 'Количество отвердителя, м.%',\n",
    "        'var5': 'Содержание эпоксидных групп,%_2',\n",
    "        'var6': 'Температура вспышки, С_2',\n",
    "        'var7': 'Поверхностная плотность, г/м2',\n",
    "        'var10': 'Потребление смолы, г/м2',\n",
    "        'var11': 'Угол нашивки, град',\n",
    "        'var12': 'Шаг нашивки',\n",
    "        'var13': 'Плотность нашивки'\n",
    "    }\n",
    "    # Переменные для формы\n",
    "    # params = {'var1': '', 'var2': '', 'var3': '', 'var4': '', 'var5': '', 'var6': '', 'var7': '',\n",
    "    #           'var10': '', 'var11': '', 'var12': '', 'var13': ''}\n",
    "    # тестовый пример 23, var8=73.33944244 var9=22458.1306205\n",
    "    params = dict(zip(features.keys(), ['1.85647616956086', '2018.22033158733', '836.294381561619', '135.401696554643',\n",
    "         '26.4355145955444', '327.51037669861', '150.961448500303', '123.34456143249', '90.0',\n",
    "         '5.0', '60.0']))\n",
    "    #\n",
    "    error = ''\n",
    "    x = pd.DataFrame()\n",
    "    var8 = ''\n",
    "    var9 = ''\n",
    "    # Получены данные из формы\n",
    "    if request.method == 'POST':\n",
    "        params = request.form.to_dict()\n",
    "        data, error = get_data_from_form(features, params)\n",
    "        if error == '':\n",
    "            # Входные данные корректны, выполняется логика\n",
    "            x = pd.DataFrame(data, index=[0])\n",
    "            # для модуля упругости при растяжении\n",
    "            prepare1 = load_pickle_obj('prepare1.sav')\n",
    "            best_model_elasticity = load_pickle_obj('best_model_elasticity.sav')\n",
    "            x1 = prepare1.transform(x)\n",
    "            y1 = best_model_elasticity.predict(x1)\n",
    "            var8 = y1[0]\n",
    "            # для прочности при растяжении\n",
    "            prepare2 = load_pickle_obj('prepare2.sav')\n",
    "            best_model_durability = load_pickle_obj('best_model_durability.sav')\n",
    "            x2 = prepare2.transform(x)\n",
    "            y2 = best_model_durability.predict(x2)\n",
    "            var9 = y2[0]\n",
    "    # Отображение результата\n",
    "    return render_template('model_1_2.html', params=params, error=error, inputs=x.to_html(), var8=var8, var9=var9)"
   ]
  },
  {
   "cell_type": "code",
   "execution_count": 21,
   "id": "08a7cb8f",
   "metadata": {},
   "outputs": [],
   "source": [
    "@app.route('/model_3/', methods=['post', 'get'])\n",
    "def model_3_page():\n",
    "    # Необходимые признаки\n",
    "    features = {\n",
    "        'var2': 'Плотность, кг/м3',\n",
    "        'var3': 'модуль упругости, ГПа',\n",
    "        'var4': 'Количество отвердителя, м.%',\n",
    "        'var5': 'Содержание эпоксидных групп,%_2',\n",
    "        'var6': 'Температура вспышки, С_2',\n",
    "        'var7': 'Поверхностная плотность, г/м2',\n",
    "        'var8': 'Модуль упругости при растяжении, ГПа',\n",
    "        'var9': 'Прочность при растяжении, МПа',\n",
    "        'var10': 'Потребление смолы, г/м2',\n",
    "        'var11': 'Угол нашивки, град',\n",
    "        'var12': 'Шаг нашивки',\n",
    "        'var13': 'Плотность нашивки'\n",
    "    }\n",
    "    # Переменные для формы\n",
    "    # params = {'var2': '', 'var3': '', 'var4': '', 'var5': '', 'var6': '', 'var7': '',\n",
    "    #           'var8': '', 'var9': '', 'var10': '', 'var11': '', 'var12': '', 'var13': ''}\n",
    "    # тестовый пример 23, var1=2.86744346\n",
    "    params = dict(zip(features.keys(), ['2018.22033158733', '836.294381561619', '135.401696554643',\n",
    "       '26.4355145955444', '327.51037669861', '150.961448500303',\n",
    "       '77.210761575252', '2473.18719456744', '123.34456143249', '90.0',\n",
    "       '5.0', '60.0']))\n",
    "    #\n",
    "    error = ''\n",
    "    x = pd.DataFrame()\n",
    "    var1 = ''\n",
    "    # Получены данные из формы\n",
    "    if request.method == 'POST':\n",
    "        params = request.form.to_dict()\n",
    "        data, error = get_data_from_form(features, params)\n",
    "        if error == '':\n",
    "            # Входные данные корректны, выполняется логика\n",
    "            x = pd.DataFrame(data, index=[0])\n",
    "            # для соотношения матрица-наполнитель\n",
    "            prepare3 = load_pickle_obj('prepare3.sav')\n",
    "            best_model_MN = load_pickle_obj('best_model_MN.sav')\n",
    "            x3 = prepare3.transform(x)\n",
    "            y3 = best_model_MN.predict(x3)\n",
    "            var1 = y3[0]\n",
    "    # Отображение результата\n",
    "    return render_template('model_3.html', params=params, error=error, inputs=x.to_html(), var1=var1)"
   ]
  },
  {
   "cell_type": "code",
   "execution_count": 22,
   "id": "2b74edf5",
   "metadata": {},
   "outputs": [],
   "source": [
    "@app.route('/')\n",
    "def main_page():\n",
    "    return render_template('main.html')"
   ]
  },
  {
   "cell_type": "code",
   "execution_count": 23,
   "id": "ed218e1f",
   "metadata": {},
   "outputs": [],
   "source": [
    "@app.route('/url_map/')\n",
    "def url_map():\n",
    "    return str(app.url_map)"
   ]
  },
  {
   "cell_type": "code",
   "execution_count": null,
   "id": "3be84167",
   "metadata": {},
   "outputs": [
    {
     "name": "stdout",
     "output_type": "stream",
     "text": [
      " * Serving Flask app '__main__' (lazy loading)\n",
      " * Environment: production\n",
      "\u001b[31m   WARNING: This is a development server. Do not use it in a production deployment.\u001b[0m\n",
      "\u001b[2m   Use a production WSGI server instead.\u001b[0m\n",
      " * Debug mode: off\n"
     ]
    },
    {
     "name": "stderr",
     "output_type": "stream",
     "text": [
      " * Running on http://127.0.0.1:5000 (Press CTRL+C to quit)\n"
     ]
    }
   ],
   "source": [
    "app.run()"
   ]
  },
  {
   "cell_type": "code",
   "execution_count": 13,
   "id": "5d5394f8",
   "metadata": {},
   "outputs": [],
   "source": []
  },
  {
   "cell_type": "code",
   "execution_count": 14,
   "id": "9a4a93c4",
   "metadata": {},
   "outputs": [],
   "source": []
  },
  {
   "cell_type": "code",
   "execution_count": 15,
   "id": "7d0a5fbd",
   "metadata": {},
   "outputs": [
    {
     "ename": "AttributeError",
     "evalue": "'NoneType' object has no attribute 'transform'",
     "output_type": "error",
     "traceback": [
      "\u001b[1;31m---------------------------------------------------------------------------\u001b[0m",
      "\u001b[1;31mAttributeError\u001b[0m                            Traceback (most recent call last)",
      "\u001b[1;32m~\\AppData\\Local\\Temp/ipykernel_22844/3358709060.py\u001b[0m in \u001b[0;36m<module>\u001b[1;34m\u001b[0m\n\u001b[1;32m----> 1\u001b[1;33m \u001b[0mx1\u001b[0m \u001b[1;33m=\u001b[0m \u001b[0mprepare1\u001b[0m\u001b[1;33m.\u001b[0m\u001b[0mtransform\u001b[0m\u001b[1;33m(\u001b[0m\u001b[0mx\u001b[0m\u001b[1;33m)\u001b[0m\u001b[1;33m\u001b[0m\u001b[1;33m\u001b[0m\u001b[0m\n\u001b[0m",
      "\u001b[1;31mAttributeError\u001b[0m: 'NoneType' object has no attribute 'transform'"
     ]
    }
   ],
   "source": []
  },
  {
   "cell_type": "code",
   "execution_count": null,
   "id": "643b6c1b",
   "metadata": {},
   "outputs": [],
   "source": []
  }
 ],
 "metadata": {
  "kernelspec": {
   "display_name": "Python 3 (ipykernel)",
   "language": "python",
   "name": "python3"
  },
  "language_info": {
   "codemirror_mode": {
    "name": "ipython",
    "version": 3
   },
   "file_extension": ".py",
   "mimetype": "text/x-python",
   "name": "python",
   "nbconvert_exporter": "python",
   "pygments_lexer": "ipython3",
   "version": "3.9.7"
  }
 },
 "nbformat": 4,
 "nbformat_minor": 5
}
